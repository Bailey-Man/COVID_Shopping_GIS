{
 "cells": [
  {
   "cell_type": "code",
   "execution_count": 1,
   "metadata": {},
   "outputs": [],
   "source": [
    "import numpy as np\n",
    "import pandas as pd\n",
    "import csv\n",
    "import matplotlib.pyplot as plt\n",
    "import json"
   ]
  },
  {
   "cell_type": "code",
   "execution_count": 4,
   "metadata": {},
   "outputs": [],
   "source": [
    "# -*- coding: utf-8 -*-\n",
    "\"\"\"Convert the Yelp Dataset Challenge dataset from json format to csv.\n",
    "\n",
    "For more information on the Yelp Dataset Challenge please visit http://yelp.com/dataset_challenge\n",
    "\n",
    "\"\"\"\n",
    "import argparse\n",
    "import collections\n",
    "import csv\n",
    "import simplejson as json\n"
   ]
  },
  {
   "cell_type": "markdown",
   "metadata": {},
   "source": [
    "Project Title:\n",
    "# COVID Restaurant Risk\n",
    "\n",
    "Team Members:\n"
   ]
  },
  {
   "cell_type": "code",
   "execution_count": 1,
   "metadata": {},
   "outputs": [],
   "source": [
    "# 2: Questions we addressed\n",
    "\n",
    "# Describe intended audience and business case\n",
    "\n",
    "# If our question changed significantly (it did) please explain\n",
    "# Lack of access to floor plan data, store size data, accurate customer counts, all limited the shopper-oriented question we had previously\n",
    "# We pivoted to a business-focused question of whether to push delivery options."
   ]
  },
  {
   "cell_type": "code",
   "execution_count": 2,
   "metadata": {},
   "outputs": [],
   "source": [
    "# 3: Background Literature and References: We have these already\n",
    "\n",
    "\n"
   ]
  },
  {
   "cell_type": "code",
   "execution_count": 3,
   "metadata": {},
   "outputs": [],
   "source": [
    "# 4: Python Libraries and ArcGIS modules used and why"
   ]
  },
  {
   "cell_type": "code",
   "execution_count": 4,
   "metadata": {},
   "outputs": [],
   "source": [
    "# 5: Data Sources \n",
    "# include URL and one-sentence description of the source\n",
    "\n",
    "# Yelp\n",
    "\n",
    "# GIS "
   ]
  },
  {
   "cell_type": "code",
   "execution_count": 6,
   "metadata": {},
   "outputs": [],
   "source": [
    "# 6: Data cleaning \n",
    "\n",
    "# Talk about dask and cleaning yelp data"
   ]
  },
  {
   "cell_type": "code",
   "execution_count": 7,
   "metadata": {},
   "outputs": [],
   "source": [
    "# 7: Descriptive statistics\n",
    "\n",
    "# Distributions of restaurant types\n",
    "\n",
    "# Map of Covid infection rates by zip\n",
    "\n",
    "# Map of Zip polygons\n",
    "\n",
    "# Create 3 layers to be joined somehow"
   ]
  },
  {
   "cell_type": "markdown",
   "metadata": {},
   "source": [
    "8. General outline of analysis:\n",
    "\n",
    "Include Diagram of workflow\n",
    "\n",
    "reflect on differences between original plan (shopping risk) and final plan (customer reduction risk estimator)\n",
    "\n",
    "- Join Layers\n",
    "- Get business by location\n",
    "- Create drive-time buffer to determine delivery location, use this buffer as proxy for walk-in/pickup service area\n",
    "- Check what % of each restaurant's service area lies within which zip code polygons:\n",
    "- - i.e. business A has 50% in zip 92111 and 50% in 92112\n",
    "- Calculate risk level for each restaurant based on likelihood of at least 1 person being infected:\n",
    "- - if business A has 10 customers\n",
    "- - then we say that risk(business A) = (1 - risk(92111))^(50% * 10 customers) + (1 - risk(92112))^(50% * 10 customers))\n",
    "- Then calculate for each business the risk with 5, 10, 25, 50, 100, and 200 people\n",
    "- Plot difference between 10 and 5, 50 and 20, and 200 and 100 (to demonstrate a drop of 50% of in-person customers due to a push towards delivery options) (the 3 strata are for 'small' 'medium' and 'large' businesses)\n",
    "- Classify each business as small/medium/large, make map of risk levels"
   ]
  },
  {
   "cell_type": "code",
   "execution_count": null,
   "metadata": {},
   "outputs": [],
   "source": [
    "# Analysis:\n"
   ]
  },
  {
   "cell_type": "code",
   "execution_count": 8,
   "metadata": {},
   "outputs": [],
   "source": [
    "# 9: Summary of products and results:\n",
    "\n",
    "# Describe what we found and why its important"
   ]
  },
  {
   "cell_type": "code",
   "execution_count": 9,
   "metadata": {},
   "outputs": [],
   "source": [
    "# 10: Discussion\n",
    "# 1. Discuss findings with respect to literature sources in section 3\n",
    "\n",
    "# What do results mean in context of what is known\n",
    "\n",
    "# what is new\n",
    "\n",
    "# Does it validate the literature\n",
    "\n",
    "# How do our results improve understanding of the problem?\n",
    "\n",
    "\n",
    "# 2. Discuss trade-offs and decision points\n",
    "\n",
    "# Performance Issues\n",
    "\n",
    "# Width of Buffers\n",
    "\n",
    "# Projections we chose\n",
    "\n",
    "# Spatial operations we used\n",
    "\n",
    "# Map combo techniques"
   ]
  },
  {
   "cell_type": "markdown",
   "metadata": {},
   "source": [
    "Conclusions and future work\n",
    "\n",
    "Did we manage to answer our initial research question?\n",
    "No, but\n",
    "\n",
    "What additional data/analysis could have been useful\n",
    "\n"
   ]
  },
  {
   "cell_type": "markdown",
   "metadata": {},
   "source": [
    "Could our actual project be extended to other areas or topics? Or use additional datasets?\n",
    "Our Business Risk dataset could easily be extended given access to the relevant data.\n",
    " \n",
    "\n",
    "How will our results be used and by whom"
   ]
  },
  {
   "cell_type": "code",
   "execution_count": null,
   "metadata": {},
   "outputs": [],
   "source": []
  },
  {
   "cell_type": "code",
   "execution_count": null,
   "metadata": {},
   "outputs": [],
   "source": []
  }
 ],
 "metadata": {
  "kernelspec": {
   "display_name": "Python 3",
   "language": "python",
   "name": "python3"
  },
  "language_info": {
   "codemirror_mode": {
    "name": "ipython",
    "version": 3
   },
   "file_extension": ".py",
   "mimetype": "text/x-python",
   "name": "python",
   "nbconvert_exporter": "python",
   "pygments_lexer": "ipython3",
   "version": "3.8.5"
  }
 },
 "nbformat": 4,
 "nbformat_minor": 4
}
